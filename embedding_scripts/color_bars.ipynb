{
 "cells": [
  {
   "cell_type": "code",
   "execution_count": 1,
   "id": "86f170b9-9659-4f77-b111-c68b2881d9a5",
   "metadata": {},
   "outputs": [],
   "source": [
    "import pickle\n",
    "import numpy as np\n",
    "import pandas as pd\n",
    "\n",
    "import matplotlib_venn\n",
    "import matplotlib.pyplot as plt\n",
    "from matplotlib.patches import Rectangle\n",
    "from matplotlib.collections import PatchCollection"
   ]
  },
  {
   "cell_type": "code",
   "execution_count": 2,
   "id": "5f640320-7b02-4dcb-9855-b02890744341",
   "metadata": {},
   "outputs": [],
   "source": [
    "tab10 = [\"#1F77B4\", \"#FF7F0E\", \"#2CA02C\", \"#D62728\", \"#9467BD\", \"#8C564B\", \"#E377C2\", \"#7F7F7F\", \"#BCBD22\", \"#17BECF\"]\n",
    "pastel1 = [\"#FBB4AE\", \"#B3CDE3\", \"#CCEBC5\", \"#DECBE4\", \"#FED9A6\", \"#FFFFCC\", \"#E5D8BD\", \"#FDDAEC\", \"#F2F2F2\"]\n",
    "set3 = [\"#8DD3C7\", \"#FFFFB3\", \"#BEBADA\", \"#FB8072\", \"#80B1D3\", \"#FDB462\", \"#B3DE69\", \"#FCCDE5\", \"#D9D9D9\", \"#BC80BD\", \"#CCEBC5\", \"#FFED6F\"]"
   ]
  },
  {
   "cell_type": "markdown",
   "id": "282550e9-eeb3-44ce-993f-efe4447f2685",
   "metadata": {},
   "source": [
    "<br><br><br><hr><br><br><br>"
   ]
  },
  {
   "cell_type": "code",
   "execution_count": 3,
   "id": "4637a220-ba53-4cb2-b468-83a7ba9dd3cd",
   "metadata": {},
   "outputs": [],
   "source": [
    "base_dir = \"/home/ph/data/temporary/for_katia_akshaya/\"\n",
    "fig_dir = base_dir + \"GSM3722057/\"\n",
    "name = \"GSM3722057\""
   ]
  },
  {
   "cell_type": "code",
   "execution_count": 4,
   "id": "20d70c1e-f821-4e36-b7b2-4c2ba9fc9bb3",
   "metadata": {
    "tags": []
   },
   "outputs": [],
   "source": [
    "with open(\"{}GSM3722057_karyotypes.pickle\".format(base_dir), \"rb\") as fh:\n",
    "    karyotype_per_barcode = pickle.load(fh)\n",
    "    \n",
    "# karyotype_per_barcode"
   ]
  },
  {
   "cell_type": "code",
   "execution_count": 5,
   "id": "64242706-ed05-4b6a-93bd-814f49535f6f",
   "metadata": {},
   "outputs": [],
   "source": [
    "tmp_dict = {\n",
    "    \"1.1\": \"0\",\n",
    "    \"1.2\": \"1\",\n",
    "    \"1.3\": \"2\",\n",
    "    \"2.1\": \"3\",\n",
    "    \"2.2\": \"4\",\n",
    "    \"3.1\": \"5\",\n",
    "    \"3.2\": \"6\",\n",
    "    \"3.3\": \"7\",\n",
    "    \"3.4\": \"8\"\n",
    "}\n",
    "karyotype_per_barcode = {k: tmp_dict[v] for k, v in karyotype_per_barcode.items()}"
   ]
  },
  {
   "cell_type": "code",
   "execution_count": 6,
   "id": "6fa9dfb5-474a-436c-a441-ca126b5f61b9",
   "metadata": {},
   "outputs": [],
   "source": [
    "with open(\"{}GSM3722057_clusters.pickle\".format(base_dir), \"rb\") as fh:\n",
    "    cluster_per_barcode = pickle.load(fh)\n",
    "    \n",
    "# cluster_per_barcode"
   ]
  },
  {
   "cell_type": "code",
   "execution_count": 7,
   "id": "6c9ac2c0-99f5-42d2-8ffc-da3c540008d0",
   "metadata": {},
   "outputs": [],
   "source": [
    "cluster_per_barcode = {k: \"0\" if v == \"Tumor\" else \"1\" if v == \"Fibroblasts\" else \"2\" if v == \"Unknown\" else \"x\" for k, v in cluster_per_barcode.items()}"
   ]
  },
  {
   "cell_type": "code",
   "execution_count": 8,
   "id": "955e845e-2ffd-4611-bbe0-be781c3c0632",
   "metadata": {},
   "outputs": [
    {
     "data": {
      "text/html": [
       "<div>\n",
       "<style scoped>\n",
       "    .dataframe tbody tr th:only-of-type {\n",
       "        vertical-align: middle;\n",
       "    }\n",
       "\n",
       "    .dataframe tbody tr th {\n",
       "        vertical-align: top;\n",
       "    }\n",
       "\n",
       "    .dataframe thead th {\n",
       "        text-align: right;\n",
       "    }\n",
       "</style>\n",
       "<table border=\"1\" class=\"dataframe\">\n",
       "  <thead>\n",
       "    <tr style=\"text-align: right;\">\n",
       "      <th></th>\n",
       "      <th>x</th>\n",
       "      <th>bc</th>\n",
       "    </tr>\n",
       "  </thead>\n",
       "  <tbody>\n",
       "    <tr>\n",
       "      <th>0</th>\n",
       "      <td>cell-AAATGCCAGCTGAATA-1</td>\n",
       "      <td>AAATGCCAGCTGAATA-1</td>\n",
       "    </tr>\n",
       "    <tr>\n",
       "      <th>1</th>\n",
       "      <td>cell-TGTAAGCTCAGGAAGC-1</td>\n",
       "      <td>TGTAAGCTCAGGAAGC-1</td>\n",
       "    </tr>\n",
       "    <tr>\n",
       "      <th>2</th>\n",
       "      <td>cell-TGGGTGCCATTTAGGC-1</td>\n",
       "      <td>TGGGTGCCATTTAGGC-1</td>\n",
       "    </tr>\n",
       "    <tr>\n",
       "      <th>3</th>\n",
       "      <td>cell-ACATGCAGTGCAAGCA-1</td>\n",
       "      <td>ACATGCAGTGCAAGCA-1</td>\n",
       "    </tr>\n",
       "    <tr>\n",
       "      <th>4</th>\n",
       "      <td>cell-ACAAAGACAAGAAACT-1</td>\n",
       "      <td>ACAAAGACAAGAAACT-1</td>\n",
       "    </tr>\n",
       "    <tr>\n",
       "      <th>...</th>\n",
       "      <td>...</td>\n",
       "      <td>...</td>\n",
       "    </tr>\n",
       "    <tr>\n",
       "      <th>2035</th>\n",
       "      <td>cell-TATGTGGGTCAGAGTG-1</td>\n",
       "      <td>TATGTGGGTCAGAGTG-1</td>\n",
       "    </tr>\n",
       "    <tr>\n",
       "      <th>2036</th>\n",
       "      <td>cell-AGTCAACTCCCACTTG-1</td>\n",
       "      <td>AGTCAACTCCCACTTG-1</td>\n",
       "    </tr>\n",
       "    <tr>\n",
       "      <th>2037</th>\n",
       "      <td>cell-CGTGGCAAGTAACTCC-1</td>\n",
       "      <td>CGTGGCAAGTAACTCC-1</td>\n",
       "    </tr>\n",
       "    <tr>\n",
       "      <th>2038</th>\n",
       "      <td>cell-AACGTACGTGAGGGTT-1</td>\n",
       "      <td>AACGTACGTGAGGGTT-1</td>\n",
       "    </tr>\n",
       "    <tr>\n",
       "      <th>2039</th>\n",
       "      <td>cell-AAAGATGGTTTCCACC-1</td>\n",
       "      <td>AAAGATGGTTTCCACC-1</td>\n",
       "    </tr>\n",
       "  </tbody>\n",
       "</table>\n",
       "<p>2040 rows × 2 columns</p>\n",
       "</div>"
      ],
      "text/plain": [
       "                            x                  bc\n",
       "0     cell-AAATGCCAGCTGAATA-1  AAATGCCAGCTGAATA-1\n",
       "1     cell-TGTAAGCTCAGGAAGC-1  TGTAAGCTCAGGAAGC-1\n",
       "2     cell-TGGGTGCCATTTAGGC-1  TGGGTGCCATTTAGGC-1\n",
       "3     cell-ACATGCAGTGCAAGCA-1  ACATGCAGTGCAAGCA-1\n",
       "4     cell-ACAAAGACAAGAAACT-1  ACAAAGACAAGAAACT-1\n",
       "...                       ...                 ...\n",
       "2035  cell-TATGTGGGTCAGAGTG-1  TATGTGGGTCAGAGTG-1\n",
       "2036  cell-AGTCAACTCCCACTTG-1  AGTCAACTCCCACTTG-1\n",
       "2037  cell-CGTGGCAAGTAACTCC-1  CGTGGCAAGTAACTCC-1\n",
       "2038  cell-AACGTACGTGAGGGTT-1  AACGTACGTGAGGGTT-1\n",
       "2039  cell-AAAGATGGTTTCCACC-1  AAAGATGGTTTCCACC-1\n",
       "\n",
       "[2040 rows x 2 columns]"
      ]
     },
     "execution_count": 8,
     "metadata": {},
     "output_type": "execute_result"
    }
   ],
   "source": [
    "list_of_barcodes = pd.read_csv(\"{}SU006_Pre_final_cluster_order.csv\".format(base_dir))\n",
    "list_of_barcodes[\"bc\"] = [bc.replace(\"cell-\", \"\") for bc in list_of_barcodes.x]\n",
    "list_of_barcodes"
   ]
  },
  {
   "cell_type": "code",
   "execution_count": 9,
   "id": "4a7c9205-1f6c-4673-8513-90b65a8748c1",
   "metadata": {},
   "outputs": [
    {
     "data": {
      "image/png": "[encoded data removed]",
      "text/plain": [
       "<Figure size 432x288 with 1 Axes>"
      ]
     },
     "metadata": {},
     "output_type": "display_data"
    },
    {
     "data": {
      "image/png": "[encoded data removed]",
      "text/plain": [
       "<Figure size 432x288 with 1 Axes>"
      ]
     },
     "metadata": {},
     "output_type": "display_data"
    }
   ],
   "source": [
    "n_both = len(set(cluster_per_barcode.keys()).intersection(set(list_of_barcodes.bc)))\n",
    "n_sc = len(set(cluster_per_barcode.keys()).difference(set(list_of_barcodes.bc)))\n",
    "n_karyo = len(set(list_of_barcodes.bc).difference(set(cluster_per_barcode.keys())))\n",
    "\n",
    "fig, ax = plt.subplots(nrows=1, ncols=1, squeeze=True)\n",
    "matplotlib_venn.venn2(subsets=(n_sc, n_karyo, n_both), set_labels=(\"single-cell\", \"epianeufinder\"), set_colors=(\"tab:blue\", \"tab:orange\"), alpha=0.7, ax=ax)\n",
    "plt.tight_layout()\n",
    "plt.savefig(fig_dir + \"venn_{}.png\".format(name), dpi=300)\n",
    "# plt.show()\n",
    "\n",
    "fig, ax = plt.subplots(nrows=1, ncols=1, squeeze=True)\n",
    "matplotlib_venn.venn2_unweighted(subsets=(n_sc, n_karyo, n_both), set_labels=(\"single-cell\", \"epianeufinder\"), set_colors=(\"tab:blue\", \"tab:orange\"), alpha=0.7, ax=ax)\n",
    "plt.tight_layout()\n",
    "plt.savefig(fig_dir + \"venn_{}_unweighted.png\".format(name), dpi=300)\n",
    "# plt.show()"
   ]
  },
  {
   "cell_type": "code",
   "execution_count": 10,
   "id": "1be739c2-ea68-414a-9595-4fbdebfc0000",
   "metadata": {},
   "outputs": [
    {
     "data": {
      "image/png": "[encoded data removed]",
      "text/plain": [
       "<Figure size 1800x36 with 1 Axes>"
      ]
     },
     "metadata": {
      "needs_background": "light"
     },
     "output_type": "display_data"
    }
   ],
   "source": [
    "# na_val = np.max([int(x) for x in cluster_per_barcode.values()]) + 1\n",
    "# cluster_anno = [int(cluster_per_barcode[bc]) if bc in cluster_per_barcode else na_val for bc in list_of_barcodes.bc]\n",
    "cluster_anno = [int(cluster_per_barcode[bc]) if bc in cluster_per_barcode else na_val for bc in list_of_barcodes.bc]\n",
    "# print(cluster_anno)\n",
    "\n",
    "fig = plt.figure(figsize=(25, 0.5))\n",
    "\n",
    "ax = fig.add_axes([0, 0, 1, 1])\n",
    "ax.set_axis_off()\n",
    "\n",
    "col = PatchCollection([\n",
    "    Rectangle((i, 0), 1, 1)\n",
    "    for i in range(len(cluster_anno))\n",
    "])\n",
    "\n",
    "# col.set_array(cluster_anno)\n",
    "# col.set_cmap(plt.cm.tab10)\n",
    "col.set_color([tab10[i] for i in cluster_anno])\n",
    "# col.set_facecolor([tab10[i] for i in cluster_anno])\n",
    "# col.set_edgecolor([tab10[i] for i in cluster_anno])\n",
    "ax.add_collection(col)\n",
    "\n",
    "ax.set_ylim(0, 1)\n",
    "ax.set_xlim(0, len(cluster_anno))\n",
    "\n",
    "plt.savefig(\"{}{}_color_bar.jpg\".format(fig_dir, name))\n",
    "# plt.show()"
   ]
  },
  {
   "cell_type": "code",
   "execution_count": 11,
   "id": "759e2aa6-af83-4409-8bb0-44764930b4b6",
   "metadata": {},
   "outputs": [
    {
     "data": {
      "image/png": "[encoded data removed]",
      "text/plain": [
       "<Figure size 1800x36 with 1 Axes>"
      ]
     },
     "metadata": {
      "needs_background": "light"
     },
     "output_type": "display_data"
    }
   ],
   "source": [
    "na_val = np.max([int(x) for x in karyotype_per_barcode.values()]) + 1\n",
    "cluster_anno = [int(karyotype_per_barcode[bc]) if bc in karyotype_per_barcode else na_val for bc in list_of_barcodes.bc]\n",
    "# print(cluster_anno)\n",
    "\n",
    "fig = plt.figure(figsize=(25, 0.5))\n",
    "\n",
    "ax = fig.add_axes([0, 0, 1, 1])\n",
    "ax.set_axis_off()\n",
    "\n",
    "col = PatchCollection([\n",
    "    Rectangle((i, 0), 1, 1)\n",
    "    for i in range(len(cluster_anno))\n",
    "])\n",
    "\n",
    "# col.set_array(cluster_anno)\n",
    "# col.set_cmap(plt.cm.tab10)\n",
    "col.set_color([pastel1[i] for i in cluster_anno])\n",
    "# col.set_facecolor([tab10[i] for i in cluster_anno])\n",
    "# col.set_edgecolor([tab10[i] for i in cluster_anno])\n",
    "ax.add_collection(col)\n",
    "\n",
    "ax.set_ylim(0, 1)\n",
    "ax.set_xlim(0, len(cluster_anno))\n",
    "\n",
    "plt.savefig(\"{}{}_color_bar_karyotype_pastel1.jpg\".format(fig_dir, name))\n",
    "# plt.show()"
   ]
  },
  {
   "cell_type": "code",
   "execution_count": 12,
   "id": "8fa93158-6412-4cb5-9f0f-2824c378e2a8",
   "metadata": {},
   "outputs": [
    {
     "data": {
      "image/png": "[encoded data removed]",
      "text/plain": [
       "<Figure size 1800x36 with 1 Axes>"
      ]
     },
     "metadata": {
      "needs_background": "light"
     },
     "output_type": "display_data"
    }
   ],
   "source": [
    "na_val = np.max([int(x) for x in karyotype_per_barcode.values()]) + 1\n",
    "cluster_anno = [int(karyotype_per_barcode[bc]) if bc in karyotype_per_barcode else na_val for bc in list_of_barcodes.bc]\n",
    "# print(cluster_anno)\n",
    "\n",
    "fig = plt.figure(figsize=(25, 0.5))\n",
    "\n",
    "ax = fig.add_axes([0, 0, 1, 1])\n",
    "ax.set_axis_off()\n",
    "\n",
    "col = PatchCollection([\n",
    "    Rectangle((i, 0), 1, 1)\n",
    "    for i in range(len(cluster_anno))\n",
    "])\n",
    "\n",
    "# col.set_array(cluster_anno)\n",
    "# col.set_cmap(plt.cm.tab10)\n",
    "col.set_color([set3[i] for i in cluster_anno])\n",
    "# col.set_facecolor([tab10[i] for i in cluster_anno])\n",
    "# col.set_edgecolor([tab10[i] for i in cluster_anno])\n",
    "ax.add_collection(col)\n",
    "\n",
    "ax.set_ylim(0, 1)\n",
    "ax.set_xlim(0, len(cluster_anno))\n",
    "\n",
    "plt.savefig(\"{}{}_color_bar_karyotype_set3.jpg\".format(fig_dir, name))\n",
    "# plt.show()"
   ]
  },
  {
   "cell_type": "markdown",
   "id": "2369499c-fd99-4098-be50-45d3afe07d37",
   "metadata": {},
   "source": [
    "<br><br><br><hr><br><br><br>"
   ]
  },
  {
   "cell_type": "code",
   "execution_count": 13,
   "id": "4c186c5a-dc45-4aa9-89e4-b9bf6225cf1d",
   "metadata": {},
   "outputs": [],
   "source": [
    "base_dir = \"/home/ph/data/temporary/for_katia_akshaya/\"\n",
    "fig_dir = base_dir + \"GSM3722064/\"\n",
    "name = \"GSM3722064\""
   ]
  },
  {
   "cell_type": "code",
   "execution_count": 14,
   "id": "f0f0179e-ec7c-418b-861b-ad8823ad33a7",
   "metadata": {},
   "outputs": [
    {
     "data": {
      "text/html": [
       "<div>\n",
       "<style scoped>\n",
       "    .dataframe tbody tr th:only-of-type {\n",
       "        vertical-align: middle;\n",
       "    }\n",
       "\n",
       "    .dataframe tbody tr th {\n",
       "        vertical-align: top;\n",
       "    }\n",
       "\n",
       "    .dataframe thead th {\n",
       "        text-align: right;\n",
       "    }\n",
       "</style>\n",
       "<table border=\"1\" class=\"dataframe\">\n",
       "  <thead>\n",
       "    <tr style=\"text-align: right;\">\n",
       "      <th></th>\n",
       "      <th>x</th>\n",
       "      <th>bc</th>\n",
       "    </tr>\n",
       "  </thead>\n",
       "  <tbody>\n",
       "    <tr>\n",
       "      <th>0</th>\n",
       "      <td>cell-AAAGATGTCTTCGTTA-1</td>\n",
       "      <td>AAAGATGTCTTCGTTA-1</td>\n",
       "    </tr>\n",
       "    <tr>\n",
       "      <th>1</th>\n",
       "      <td>cell-CCAATGATCGGTCTAA-1</td>\n",
       "      <td>CCAATGATCGGTCTAA-1</td>\n",
       "    </tr>\n",
       "    <tr>\n",
       "      <th>2</th>\n",
       "      <td>cell-CCCGTTAAGTTCAACC-1</td>\n",
       "      <td>CCCGTTAAGTTCAACC-1</td>\n",
       "    </tr>\n",
       "    <tr>\n",
       "      <th>3</th>\n",
       "      <td>cell-GTGCACGTCTTTGCAT-1</td>\n",
       "      <td>GTGCACGTCTTTGCAT-1</td>\n",
       "    </tr>\n",
       "    <tr>\n",
       "      <th>4</th>\n",
       "      <td>cell-TTCGCGTTCGCCTTAC-1</td>\n",
       "      <td>TTCGCGTTCGCCTTAC-1</td>\n",
       "    </tr>\n",
       "    <tr>\n",
       "      <th>...</th>\n",
       "      <td>...</td>\n",
       "      <td>...</td>\n",
       "    </tr>\n",
       "    <tr>\n",
       "      <th>499</th>\n",
       "      <td>cell-GCCATAACACCTGTGG-1</td>\n",
       "      <td>GCCATAACACCTGTGG-1</td>\n",
       "    </tr>\n",
       "    <tr>\n",
       "      <th>500</th>\n",
       "      <td>cell-GACCCAGAGGATGCCA-1</td>\n",
       "      <td>GACCCAGAGGATGCCA-1</td>\n",
       "    </tr>\n",
       "    <tr>\n",
       "      <th>501</th>\n",
       "      <td>cell-GAAGTCTTCGGGAAAC-1</td>\n",
       "      <td>GAAGTCTTCGGGAAAC-1</td>\n",
       "    </tr>\n",
       "    <tr>\n",
       "      <th>502</th>\n",
       "      <td>cell-AGTTTGGGTGGCCTCA-1</td>\n",
       "      <td>AGTTTGGGTGGCCTCA-1</td>\n",
       "    </tr>\n",
       "    <tr>\n",
       "      <th>503</th>\n",
       "      <td>cell-GAACTTGCATCCCTCA-1</td>\n",
       "      <td>GAACTTGCATCCCTCA-1</td>\n",
       "    </tr>\n",
       "  </tbody>\n",
       "</table>\n",
       "<p>504 rows × 2 columns</p>\n",
       "</div>"
      ],
      "text/plain": [
       "                           x                  bc\n",
       "0    cell-AAAGATGTCTTCGTTA-1  AAAGATGTCTTCGTTA-1\n",
       "1    cell-CCAATGATCGGTCTAA-1  CCAATGATCGGTCTAA-1\n",
       "2    cell-CCCGTTAAGTTCAACC-1  CCCGTTAAGTTCAACC-1\n",
       "3    cell-GTGCACGTCTTTGCAT-1  GTGCACGTCTTTGCAT-1\n",
       "4    cell-TTCGCGTTCGCCTTAC-1  TTCGCGTTCGCCTTAC-1\n",
       "..                       ...                 ...\n",
       "499  cell-GCCATAACACCTGTGG-1  GCCATAACACCTGTGG-1\n",
       "500  cell-GACCCAGAGGATGCCA-1  GACCCAGAGGATGCCA-1\n",
       "501  cell-GAAGTCTTCGGGAAAC-1  GAAGTCTTCGGGAAAC-1\n",
       "502  cell-AGTTTGGGTGGCCTCA-1  AGTTTGGGTGGCCTCA-1\n",
       "503  cell-GAACTTGCATCCCTCA-1  GAACTTGCATCCCTCA-1\n",
       "\n",
       "[504 rows x 2 columns]"
      ]
     },
     "execution_count": 14,
     "metadata": {},
     "output_type": "execute_result"
    }
   ],
   "source": [
    "# list_of_barcodes = pd.read_csv(\"{}SU008_Pre_Final_min5_cluster_order.csv\".format(base_dir))\n",
    "list_of_barcodes = pd.read_csv(\"{}SU008_Pre_final_cluster_order.csv\".format(base_dir))\n",
    "list_of_barcodes[\"bc\"] = [bc.replace(\"cell-\", \"\") for bc in list_of_barcodes.x]\n",
    "list_of_barcodes"
   ]
  },
  {
   "cell_type": "code",
   "execution_count": 15,
   "id": "44c4aa59-5ace-4f0d-8ea4-428c6332203b",
   "metadata": {
    "tags": []
   },
   "outputs": [],
   "source": [
    "with open(\"{}GSM3722064_bins.pickle\".format(base_dir), \"rb\") as fh:\n",
    "    bin_per_barcode = pickle.load(fh)\n",
    "    \n",
    "# bin_per_barcode"
   ]
  },
  {
   "cell_type": "code",
   "execution_count": 16,
   "id": "be23eaa1-f368-4de8-9a9c-381e4f48624c",
   "metadata": {
    "tags": []
   },
   "outputs": [],
   "source": [
    "with open(\"{}GSM3722064_karyotypes.pickle\".format(base_dir), \"rb\") as fh:\n",
    "    karyotype_per_barcode = pickle.load(fh)\n",
    "    \n",
    "# karyotype_per_barcode"
   ]
  },
  {
   "cell_type": "code",
   "execution_count": 17,
   "id": "cceef8e4-e7e2-4c89-a2ae-439b7a3bf394",
   "metadata": {},
   "outputs": [],
   "source": [
    "tmp_dict = {\n",
    "    \"1.1\": \"0\",\n",
    "    \"1.2\": \"1\",\n",
    "    \"1.3\": \"2\",\n",
    "    \"2\": \"3\",\n",
    "    \"3.1\": \"4\",\n",
    "    \"3.2\": \"5\",\n",
    "    \"3.3.1\": \"6\",\n",
    "    \"3.3.2\": \"7\",\n",
    "    \"3.3.3\": \"8\"\n",
    "}\n",
    "karyotype_per_barcode = {k: tmp_dict[v] for k, v in karyotype_per_barcode.items()}"
   ]
  },
  {
   "cell_type": "code",
   "execution_count": 18,
   "id": "2c146bdf-5616-4733-b4e0-efb274d5fa8b",
   "metadata": {
    "tags": []
   },
   "outputs": [],
   "source": [
    "with open(\"{}GSM3722064_clusters.pickle\".format(base_dir), \"rb\") as fh:\n",
    "    cluster_per_barcode = pickle.load(fh)\n",
    "    \n",
    "# cluster_per_barcode"
   ]
  },
  {
   "cell_type": "code",
   "execution_count": 19,
   "id": "aaa3a69e-f240-49e5-907e-2d837ba034e7",
   "metadata": {},
   "outputs": [],
   "source": [
    "cluster_per_barcode = {k: \"0\" if v == \"Tumor\" else \"1\" if v == \"Fibroblasts\" else \"2\" if v == \"Unknown\" else \"3\" if v == \"Endothelial\" else \"x\" for k, v in cluster_per_barcode.items()}"
   ]
  },
  {
   "cell_type": "code",
   "execution_count": 20,
   "id": "001bd1e4-88e8-4a88-84cb-f42034c7cb5c",
   "metadata": {},
   "outputs": [
    {
     "data": {
      "image/png": "[encoded data removed]",
      "text/plain": [
       "<Figure size 432x288 with 1 Axes>"
      ]
     },
     "metadata": {},
     "output_type": "display_data"
    },
    {
     "data": {
      "image/png": "[encoded data removed]",
      "text/plain": [
       "<Figure size 432x288 with 1 Axes>"
      ]
     },
     "metadata": {},
     "output_type": "display_data"
    }
   ],
   "source": [
    "n_both = len(set(cluster_per_barcode.keys()).intersection(set(list_of_barcodes.bc)))\n",
    "n_sc = len(set(cluster_per_barcode.keys()).difference(set(list_of_barcodes.bc)))\n",
    "n_karyo = len(set(list_of_barcodes.bc).difference(set(cluster_per_barcode.keys())))\n",
    "\n",
    "fig, ax = plt.subplots(nrows=1, ncols=1, squeeze=True)\n",
    "matplotlib_venn.venn2(subsets=(n_sc, n_karyo, n_both), set_labels=(\"single-cell\", \"epianeufinder\"), set_colors=(\"tab:blue\", \"tab:orange\"), alpha=0.7, ax=ax)\n",
    "plt.tight_layout()\n",
    "plt.savefig(fig_dir + \"venn_{}.png\".format(name), dpi=300)\n",
    "# plt.show()\n",
    "\n",
    "fig, ax = plt.subplots(nrows=1, ncols=1, squeeze=True)\n",
    "matplotlib_venn.venn2_unweighted(subsets=(n_sc, n_karyo, n_both), set_labels=(\"single-cell\", \"epianeufinder\"), set_colors=(\"tab:blue\", \"tab:orange\"), alpha=0.7, ax=ax)\n",
    "plt.tight_layout()\n",
    "plt.savefig(fig_dir + \"venn_{}_unweighted.png\".format(name), dpi=300)\n",
    "# plt.show()"
   ]
  },
  {
   "cell_type": "code",
   "execution_count": 21,
   "id": "48a201c7-ccd6-4df3-a679-3d2345fca214",
   "metadata": {},
   "outputs": [
    {
     "data": {
      "image/png": "[encoded data removed]",
      "text/plain": [
       "<Figure size 1800x36 with 1 Axes>"
      ]
     },
     "metadata": {
      "needs_background": "light"
     },
     "output_type": "display_data"
    }
   ],
   "source": [
    "na_val = np.max([int(x) for x in cluster_per_barcode.values()]) + 1\n",
    "cluster_anno = [int(cluster_per_barcode[bc]) if bc in cluster_per_barcode else na_val for bc in list_of_barcodes.bc]\n",
    "# print(cluster_anno)\n",
    "\n",
    "fig = plt.figure(figsize=(25, 0.5))\n",
    "\n",
    "ax = fig.add_axes([0, 0, 1, 1])\n",
    "ax.set_axis_off()\n",
    "\n",
    "col = PatchCollection([\n",
    "    Rectangle((i, 0), 1, 1)\n",
    "    for i in range(len(cluster_anno))\n",
    "])\n",
    "\n",
    "# col.set_array(cluster_anno)\n",
    "# col.set_cmap(plt.cm.tab10)\n",
    "col.set_color([tab10[i] for i in cluster_anno])\n",
    "# col.set_facecolor([tab10[i] for i in cluster_anno])\n",
    "# col.set_edgecolor([tab10[i] for i in cluster_anno])\n",
    "ax.add_collection(col)\n",
    "\n",
    "ax.set_ylim(0, 1)\n",
    "ax.set_xlim(0, len(cluster_anno))\n",
    "\n",
    "plt.savefig(\"{}{}_color_bar.jpg\".format(fig_dir, name))\n",
    "# plt.show()"
   ]
  },
  {
   "cell_type": "code",
   "execution_count": 22,
   "id": "8ba66ce8-6b6c-4d7b-baae-3ac1d2a10e00",
   "metadata": {},
   "outputs": [
    {
     "data": {
      "image/png": "[encoded data removed]",
      "text/plain": [
       "<Figure size 1800x36 with 1 Axes>"
      ]
     },
     "metadata": {
      "needs_background": "light"
     },
     "output_type": "display_data"
    }
   ],
   "source": [
    "na_val = np.max([int(x) for x in karyotype_per_barcode.values()]) + 1\n",
    "cluster_anno = [int(karyotype_per_barcode[bc]) if bc in karyotype_per_barcode else na_val for bc in list_of_barcodes.bc]\n",
    "# print(cluster_anno)\n",
    "\n",
    "fig = plt.figure(figsize=(25, 0.5))\n",
    "\n",
    "ax = fig.add_axes([0, 0, 1, 1])\n",
    "ax.set_axis_off()\n",
    "\n",
    "col = PatchCollection([\n",
    "    Rectangle((i, 0), 1, 1)\n",
    "    for i in range(len(cluster_anno))\n",
    "])\n",
    "\n",
    "# col.set_array(cluster_anno)\n",
    "# col.set_cmap(plt.cm.tab10)\n",
    "col.set_color([pastel1[i] for i in cluster_anno])\n",
    "# col.set_facecolor([tab10[i] for i in cluster_anno])\n",
    "# col.set_edgecolor([tab10[i] for i in cluster_anno])\n",
    "ax.add_collection(col)\n",
    "\n",
    "ax.set_ylim(0, 1)\n",
    "ax.set_xlim(0, len(cluster_anno))\n",
    "\n",
    "plt.savefig(\"{}{}_color_bar_karyotype_pastel1.jpg\".format(fig_dir, name))\n",
    "# plt.show()"
   ]
  },
  {
   "cell_type": "code",
   "execution_count": 23,
   "id": "473c0e24-3494-40fe-8625-5277c35b9e58",
   "metadata": {},
   "outputs": [
    {
     "data": {
      "image/png": "[encoded data removed]",
      "text/plain": [
       "<Figure size 1800x36 with 1 Axes>"
      ]
     },
     "metadata": {
      "needs_background": "light"
     },
     "output_type": "display_data"
    }
   ],
   "source": [
    "na_val = np.max([int(x) for x in karyotype_per_barcode.values()]) + 1\n",
    "cluster_anno = [int(karyotype_per_barcode[bc]) if bc in karyotype_per_barcode else na_val for bc in list_of_barcodes.bc]\n",
    "# print(cluster_anno)\n",
    "\n",
    "fig = plt.figure(figsize=(25, 0.5))\n",
    "\n",
    "ax = fig.add_axes([0, 0, 1, 1])\n",
    "ax.set_axis_off()\n",
    "\n",
    "col = PatchCollection([\n",
    "    Rectangle((i, 0), 1, 1)\n",
    "    for i in range(len(cluster_anno))\n",
    "])\n",
    "\n",
    "# col.set_array(cluster_anno)\n",
    "# col.set_cmap(plt.cm.tab10)\n",
    "col.set_color([set3[i] for i in cluster_anno])\n",
    "# col.set_facecolor([tab10[i] for i in cluster_anno])\n",
    "# col.set_edgecolor([tab10[i] for i in cluster_anno])\n",
    "ax.add_collection(col)\n",
    "\n",
    "ax.set_ylim(0, 1)\n",
    "ax.set_xlim(0, len(cluster_anno))\n",
    "\n",
    "plt.savefig(\"{}{}_color_bar_karyotype_set3.jpg\".format(fig_dir, name))\n",
    "# plt.show()"
   ]
  },
  {
   "cell_type": "code",
   "execution_count": 47,
   "id": "cc6768c7-4eee-4260-b530-7139afd4439b",
   "metadata": {},
   "outputs": [],
   "source": [
    "n_bins = 10\n",
    "end_index = list_of_barcodes.shape[0]\n",
    "\n",
    "bin_size = np.ceil(end_index / n_bins)\n",
    "\n",
    "[end_index - bin_size * (n_bins - 1)]\n",
    "\n",
    "bins = []\n",
    "for i in range(n_bins):\n",
    "    reps = end_index - bin_size * (n_bins - 1) if i == n_bins - 1 else bin_size\n",
    "    for _ in range(int(reps)):\n",
    "        bins.append(i)"
   ]
  },
  {
   "cell_type": "code",
   "execution_count": 48,
   "id": "521571d1-1ad6-443a-adab-012c3d8fb45b",
   "metadata": {},
   "outputs": [
    {
     "data": {
      "image/png": "[encoded data removed]",
      "text/plain": [
       "<Figure size 1800x36 with 1 Axes>"
      ]
     },
     "metadata": {
      "needs_background": "light"
     },
     "output_type": "display_data"
    }
   ],
   "source": [
    "fig = plt.figure(figsize=(25, 0.5))\n",
    "\n",
    "ax = fig.add_axes([0, 0, 1, 1])\n",
    "ax.set_axis_off()\n",
    "\n",
    "col = PatchCollection([\n",
    "    Rectangle((i, 0), 1, 1)\n",
    "    for i in range(len(bins))\n",
    "])\n",
    "\n",
    "# col.set_array(cluster_anno)\n",
    "# col.set_cmap(plt.cm.tab10)\n",
    "col.set_color([tab10[i] for i in bins])\n",
    "# col.set_facecolor([tab10[i] for i in cluster_anno])\n",
    "# col.set_edgecolor([tab10[i] for i in cluster_anno])\n",
    "ax.add_collection(col)\n",
    "\n",
    "ax.set_ylim(0, 1)\n",
    "ax.set_xlim(0, len(bins))\n",
    "\n",
    "plt.savefig(\"{}{}_color_bar_bins.jpg\".format(fig_dir, name))\n",
    "# plt.show()"
   ]
  },
  {
   "cell_type": "code",
   "execution_count": 63,
   "id": "e259a982-e29f-4bb3-8623-17f1d3765855",
   "metadata": {},
   "outputs": [
    {
     "data": {
      "image/png": "[encoded data removed]",
      "text/plain": [
       "<Figure size 1800x36 with 1 Axes>"
      ]
     },
     "metadata": {
      "needs_background": "light"
     },
     "output_type": "display_data"
    }
   ],
   "source": [
    "na_val = np.max([int(x) for x in bin_per_barcode.values()]) + 1\n",
    "bin_anno = [int(bin_per_barcode[bc]) if bc in bin_per_barcode else na_val for bc in list_of_barcodes.bc]\n",
    "# print(cluster_anno)\n",
    "\n",
    "fig = plt.figure(figsize=(25, 0.5))\n",
    "\n",
    "ax = fig.add_axes([0, 0, 1, 1])\n",
    "ax.set_axis_off()\n",
    "\n",
    "col = PatchCollection([\n",
    "    Rectangle((i, 0), 1, 1)\n",
    "    for i in range(len(bin_anno))\n",
    "])\n",
    "\n",
    "# col.set_array(cluster_anno)\n",
    "# col.set_cmap(plt.cm.tab10)\n",
    "col.set_color([tab10[i] for i in bin_anno])\n",
    "# col.set_facecolor([tab10[i] for i in cluster_anno])\n",
    "# col.set_edgecolor([tab10[i] for i in cluster_anno])\n",
    "ax.add_collection(col)\n",
    "\n",
    "ax.set_ylim(0, 1)\n",
    "ax.set_xlim(0, len(bin_anno))\n",
    "\n",
    "plt.savefig(\"{}{}_color_bar_bins_transferred.jpg\".format(fig_dir, name))\n",
    "# plt.show()"
   ]
  },
  {
   "cell_type": "code",
   "execution_count": null,
   "id": "6a127118-0b81-48b5-a8b4-d55c220b61c0",
   "metadata": {},
   "outputs": [],
   "source": []
  }
 ],
 "metadata": {
  "kernelspec": {
   "display_name": "data_analysis_stable",
   "language": "python",
   "name": "data_analysis_stable"
  },
  "language_info": {
   "codemirror_mode": {
    "name": "ipython",
    "version": 3
   },
   "file_extension": ".py",
   "mimetype": "text/x-python",
   "name": "python",
   "nbconvert_exporter": "python",
   "pygments_lexer": "ipython3",
   "version": "3.9.9"
  }
 },
 "nbformat": 4,
 "nbformat_minor": 5
}
